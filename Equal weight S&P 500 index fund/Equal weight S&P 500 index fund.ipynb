{
 "cells": [
  {
   "cell_type": "markdown",
   "id": "65e86722",
   "metadata": {},
   "source": [
    "The code imports several libraries and modules that will be used in the code. Here is a line-by-line explanation:\n",
    "\n",
    "import pandas as pd: This imports the Pandas library and assigns it the alias pd. Pandas is a powerful library used for data manipulation and analysis.\n",
    "\n",
    "import requests: This imports the Requests library, which allows sending HTTP requests in Python.\n",
    "\n",
    "import xlsxwriter: This imports the XlsxWriter library, which is used to create Excel files.\n",
    "\n",
    "import math: This imports the math module, which provides mathematical functions and constants.\n",
    "\n",
    "from bs4 import BeautifulSoup: This imports the BeautifulSoup class from the BeautifulSoup library. BeautifulSoup is used for web scraping and parsing HTML and XML documents."
   ]
  },
  {
   "cell_type": "code",
   "execution_count": 76,
   "id": "3770a7b2",
   "metadata": {},
   "outputs": [],
   "source": [
    "import pandas as pd\n",
    "import requests \n",
    "import xlsxwriter \n",
    "import math\n",
    "from bs4 import BeautifulSoup\n",
    "import csv\n",
    "import numpy as np\n",
    "import time"
   ]
  },
  {
   "cell_type": "markdown",
   "id": "0505903a",
   "metadata": {},
   "source": [
    "The code retrieves data from a website and extracts information from it. Let's go through it step by step:\n",
    "\n",
    "The code starts by importing necessary libraries such as requests, BeautifulSoup, numpy, pandas, xlsxwriter, and csv. These libraries will be used for making HTTP requests, parsing HTML, and working with data in various formats.\n",
    "\n",
    "The code then assigns a URL to the variable URL. In this case, the URL is 'https://dhan.co/nifty-stocks-list/nifty-50/'. This is the website from which the data will be retrieved.\n",
    "\n",
    "The code uses a try-except block to handle any exceptions that may occur during the execution of the code. It attempts to make a request to the specified URL using the requests.get() function and assigns the response to the variable r. If an exception occurs, it will be caught and an error message will be printed.\n",
    "\n",
    "If the request is successful, the code creates a BeautifulSoup object called soup by passing the HTML content of the response (r.text) and the parser to be used ('lxml').\n",
    "\n",
    "The code finds an element in the HTML with the class \"d-flex flex-wrap pl-4 mt-4\" using the find() method on the soup object and assigns it to the variable table. This element contains the data we are interested in.\n",
    "\n",
    "The code initializes an empty list called data.\n",
    "\n",
    "It then loops through each element with the class \"col-md-6 col-12 pl-0\" within the table object using the find_all() method. This class represents individual rows in the table.\n",
    "\n",
    "For each row, the code extracts the text of the link (row.a.text) and removes any leading or trailing whitespace using the strip() method. The extracted text represents the name of a company.\n",
    "\n",
    "The extracted name is then appended to the data list."
   ]
  },
  {
   "cell_type": "code",
   "execution_count": 28,
   "id": "e4020397",
   "metadata": {},
   "outputs": [],
   "source": [
    "URL = 'https://dhan.co/nifty-stocks-list/nifty-50/'\n",
    "try:\n",
    "    r = requests.get(URL)\n",
    "    # Rest of the code\n",
    "except requests.RequestException as e:\n",
    "    print(\"Error occurred:\", e)\n",
    "    # Handle the error gracefully\n",
    "soup = BeautifulSoup(r.text,'lxml')\n",
    "table = soup.find(class_=\"d-flex flex-wrap pl-4 mt-4\")\n",
    "data = []\n",
    "for row in table.find_all(class_ = \"col-md-6 col-12 pl-0\"):\n",
    "    name = row.a.text.strip()\n",
    "    data.append(name)"
   ]
  },
  {
   "cell_type": "markdown",
   "id": "c40bad88",
   "metadata": {},
   "source": [
    "The code opens a file named \"nifty_50.csv\" in write mode using the open() function and assigns it to the variable f. The newline='' argument is provided to ensure that no extra newline characters are added to the file.\n",
    "\n",
    "A csv.writer object is created using the file object f. This object, assigned to the variable writer, will be used to write data to the CSV file.\n",
    "\n",
    "The code writes a single row to the CSV file using the writerow() method of the writer object. This row contains a single column with the header name \"Company_Name\". This serves as the header row in the CSV file.\n",
    "\n",
    "The code then enters a loop that iterates over each element in the data list obtained from the previous code.\n",
    "\n",
    "For each element in data, the code performs the following steps:\n",
    "\n",
    "It removes any commas (,) from the current element by splitting the string at commas and joining the resulting substrings together using join(). The result is assigned to the variable company_name.\n",
    "Any leading or trailing whitespace is removed from company_name using the strip() method.\n",
    "The cleaned company_name is written as a single-row list to the CSV file using the writerow() method. This creates a new row in the CSV file with the company name in the \"Company_Name\" column."
   ]
  },
  {
   "cell_type": "code",
   "execution_count": 45,
   "id": "91182e06",
   "metadata": {},
   "outputs": [],
   "source": [
    "with open('nifty_50.csv', 'w', newline='') as f:\n",
    "    writer = csv.writer(f)\n",
    "    writer.writerow(['Company_Name'])  # Writing the header row\n",
    "\n",
    "    for row in data:\n",
    "        company_name = ''.join(row.split(',')).strip()  # Removing commas and stripping whitespace\n",
    "        writer.writerow([company_name])  # Writing each row with the updated company name"
   ]
  },
  {
   "cell_type": "code",
   "execution_count": null,
   "id": "ba795447",
   "metadata": {},
   "outputs": [],
   "source": [
    "stocks = pd.read_csv('S&P500.csv')\n",
    "stocks"
   ]
  },
  {
   "cell_type": "code",
   "execution_count": 33,
   "id": "278f89df",
   "metadata": {},
   "outputs": [
    {
     "data": {
      "text/plain": [
       "{'Global Quote': {'01. symbol': 'IBM',\n",
       "  '02. open': '121.4100',\n",
       "  '03. high': '122.8600',\n",
       "  '04. low': '121.1100',\n",
       "  '05. price': '122.8400',\n",
       "  '06. volume': '4564825',\n",
       "  '07. latest trading day': '2023-05-12',\n",
       "  '08. previous close': '120.9000',\n",
       "  '09. change': '1.9400',\n",
       "  '10. change percent': '1.6046%'}}"
      ]
     },
     "execution_count": 33,
     "metadata": {},
     "output_type": "execute_result"
    }
   ],
   "source": [
    "algo_key =\"Use-your-api-key\"\n",
    "symbol = \"IBM\"\n",
    "url = f'https://www.alphavantage.co/query?function=OVERVIEW&symbol={symbol}&apikey={algo_key}'\n",
    "url1 = f'https://www.alphavantage.co/query?function=GLOBAL_QUOTE&symbol={symbol}&apikey={algo_key}'\n",
    "r = requests.get(url)\n",
    "r1 = requests.get(url1)\n",
    "data = r.json()\n",
    "data1 = r1.json()"
   ]
  },
  {
   "cell_type": "markdown",
   "id": "935c77fd",
   "metadata": {},
   "source": [
    "The following code performs individual API calls to retrieve stock data for multiple symbols from the Alpha Vantage API. Here's a line-by-line breakdown of the code:\n",
    "\n",
    "symbol = [i for i in stocks['Ticker']]: This line creates a list symbol that contains all the ticker symbols from the 'Ticker' column of the stocks DataFrame.\n",
    "\n",
    "col = [\"Ticker\", \"Stock_Price\", \"Market_Cap\", \"Number_of_shares_to_buy\"]: This line defines a list col that contains the column names for the data to be collected.\n",
    "\n",
    "df2 = []: This line initializes an empty list df2 which will store the collected data as DataFrames.\n",
    "\n",
    "num_iterations = min(20, 500 // 5): This line calculates the number of iterations required to stay within the rate limits. It takes the minimum value between 20 (a limit set by the code) and 500 divided by 5 (since the rate limit is 5 requests per minute)."
   ]
  },
  {
   "cell_type": "code",
   "execution_count": null,
   "id": "25beeb53",
   "metadata": {},
   "outputs": [],
   "source": [
    "## Batch api calling is not available in Alphavantage, so we are calling 500 apis individually\n",
    "\n",
    "symbol = [i for i in stocks['Ticker']]\n",
    "col = [\"Ticker\", \"Stock_Price\", \"Market_Cap\", \"Number_of_shares_to_buy\"]\n",
    "df2 = []\n",
    "\n",
    "# Calculate the number of iterations required to stay within the rate limits\n",
    "num_iterations = min(20, 500 // 5)  # Limiting to 20 symbols or maximum allowed by the daily limit\n",
    "\n",
    "for i in range(num_iterations):\n",
    "    stock = symbol[i]\n",
    "    try:\n",
    "        url = f'https://www.alphavantage.co/query?function=OVERVIEW&symbol={stock}&apikey={algo_key}'\n",
    "        url1 = f'https://www.alphavantage.co/query?function=GLOBAL_QUOTE&symbol={stock}&apikey={algo_key}'\n",
    "        data = requests.get(url).json()\n",
    "        data1 = requests.get(url1).json()\n",
    "        df = pd.DataFrame([[stock, data1['Global Quote']['05. price'], data['MarketCapitalization'], None]], columns=col)\n",
    "        df2.append(df)\n",
    "    except Exception as e:\n",
    "        print(f\"An error occurred for stock {stock}: {e}\")\n",
    "\n",
    "    # Add a delay to stay within the rate limit of 5 requests per minute\n",
    "    if i < num_iterations - 1:\n",
    "        time.sleep(12)  # Delay for 12 seconds between iterations\n",
    "\n",
    "result_df = pd.concat(df2, ignore_index=True)"
   ]
  },
  {
   "cell_type": "markdown",
   "id": "1957f747",
   "metadata": {},
   "source": [
    "The code is responsible for calculating the number of shares to buy for each stock in a portfolio based on the portfolio size and the stock's current price.\n",
    "\n",
    "Here's a breakdown of the code:\n",
    "\n",
    "The code starts with a while loop that runs indefinitely until a valid number is entered for the portfolio size. \n",
    "It prompts the user to enter their portfolio size and attempts to convert the input to a float value using the float() function.\n",
    "If the conversion is successful (no ValueError is raised), the loop is exited using the break statement.\n",
    "If the conversion fails (a ValueError is raised), an error message is printed, indicating that a number should be entered.\n",
    "After exiting the loop, the variable val contains the portfolio size entered by the user.\n",
    "The code calculates the position size for each stock by dividing the portfolio size (val) by the number of stocks in the result_df DataFrame."
   ]
  },
  {
   "cell_type": "code",
   "execution_count": 109,
   "id": "10bc05b8",
   "metadata": {},
   "outputs": [
    {
     "name": "stdout",
     "output_type": "stream",
     "text": [
      "Enter your portfolio size: 1000\n"
     ]
    }
   ],
   "source": [
    "while True:\n",
    "    try:\n",
    "        val = float(input(\"Enter your portfolio size: \"))\n",
    "        break  # Exit the loop if a valid number is entered\n",
    "    except ValueError:\n",
    "        print(\"Please enter a number.\")\n",
    "position_size = val/len(result_df)\n",
    "for i in range(len(result_df)):\n",
    "    result_df.loc[i,'Number_of_shares_to_buy'] = math.floor(position_size/float(result_df.loc[i, 'Stock_Price']))"
   ]
  },
  {
   "cell_type": "markdown",
   "id": "f2ca0769",
   "metadata": {},
   "source": [
    "The code is responsible for writing the data from the result_df DataFrame to a CSV file named \"trades\". It uses the csv module to accomplish this task.\n",
    "\n",
    "Let's break down the code line by line:\n",
    "\n",
    "with open('trades', 'w') as f:\n",
    "This line opens the file named \"trades\" in write mode ('w'). The file will be created if it doesn't exist, and if it exists, its contents will be overwritten. The file object is assigned to the variable f.\n",
    "\n",
    "writer = csv.writer(f)\n",
    "This line creates a CSV writer object using the file object f as the output file. The csv.writer() function is used to create the writer."
   ]
  },
  {
   "cell_type": "code",
   "execution_count": 113,
   "id": "1e20f802",
   "metadata": {},
   "outputs": [],
   "source": [
    "with open('trades', 'w') as f:\n",
    "    writer = csv.writer(f)\n",
    "    writer.writerow([\"Ticker\", \"Stock_Price\", \"Market_Cap\", \"Number_of_shares_to_buy\"])  # Write header row\n",
    "    \n",
    "    for i in range(len(result_df)):\n",
    "        ticker = result_df.loc[i, \"Ticker\"]\n",
    "        stock_price = result_df.loc[i, \"Stock_Price\"]\n",
    "        market_cap = result_df.loc[i, \"Market_Cap\"]\n",
    "        num_shares_to_buy = result_df.loc[i, \"Number_of_shares_to_buy\"]\n",
    "        \n",
    "        writer.writerow([ticker, stock_price, market_cap, num_shares_to_buy])  # Write data row"
   ]
  }
 ],
 "metadata": {
  "kernelspec": {
   "display_name": "Python 3 (ipykernel)",
   "language": "python",
   "name": "python3"
  },
  "language_info": {
   "codemirror_mode": {
    "name": "ipython",
    "version": 3
   },
   "file_extension": ".py",
   "mimetype": "text/x-python",
   "name": "python",
   "nbconvert_exporter": "python",
   "pygments_lexer": "ipython3",
   "version": "3.10.9"
  }
 },
 "nbformat": 4,
 "nbformat_minor": 5
}
